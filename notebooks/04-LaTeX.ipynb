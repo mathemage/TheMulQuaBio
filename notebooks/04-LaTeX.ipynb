{
 "cells": [
  {
   "cell_type": "markdown",
   "metadata": {},
   "source": [
    "<!--NAVIGATION-->\n",
    "< [Version Control with Git](03-Git.ipynb) | [Main Contents](Index.ipynb) | [Biological Computing in Python I](05-Python_I.ipynb)>"
   ]
  },
  {
   "cell_type": "markdown",
   "metadata": {},
   "source": [
    "# Scientific documents with $\\LaTeX$  <span class=\"tocSkip\"></span> <a name=\"chap:LaTeX\"></a>"
   ]
  },
  {
   "cell_type": "markdown",
   "metadata": {
    "toc": true
   },
   "source": [
    "<h1>Table of Contents<span class=\"tocSkip\"></span></h1>\n",
    "<div class=\"toc\"><ul class=\"toc-item\"><li><span><a href=\"#What’s-$\\LaTeX$?\" data-toc-modified-id=\"What’s-$\\LaTeX$?-1\"><span class=\"toc-item-num\">1&nbsp;&nbsp;</span>What’s $\\LaTeX$?</a></span></li><li><span><a href=\"#Why-$\\LaTeX$?\" data-toc-modified-id=\"Why-$\\LaTeX$?-2\"><span class=\"toc-item-num\">2&nbsp;&nbsp;</span>Why $\\LaTeX$?</a></span><ul class=\"toc-item\"><li><span><a href=\"#Limitations-of-$\\LaTeX$\" data-toc-modified-id=\"Limitations-of-$\\LaTeX$-2.1\"><span class=\"toc-item-num\">2.1&nbsp;&nbsp;</span>Limitations of $\\LaTeX$</a></span></li></ul></li><li><span><a href=\"#Installing-LaTeX\" data-toc-modified-id=\"Installing-LaTeX-3\"><span class=\"toc-item-num\">3&nbsp;&nbsp;</span>Installing LaTeX</a></span></li><li><span><a href=\"#A-first-LaTeX-example\" data-toc-modified-id=\"A-first-LaTeX-example-4\"><span class=\"toc-item-num\">4&nbsp;&nbsp;</span>A first LaTeX example</a></span><ul class=\"toc-item\"><li><span><a href=\"#A-bash-script-to-compile-LaTeX\" data-toc-modified-id=\"A-bash-script-to-compile-LaTeX-4.1\"><span class=\"toc-item-num\">4.1&nbsp;&nbsp;</span>A bash script to compile LaTeX</a></span></li></ul></li><li><span><a href=\"#A-few-$\\LaTeX$-basics\" data-toc-modified-id=\"A-few-$\\LaTeX$-basics-5\"><span class=\"toc-item-num\">5&nbsp;&nbsp;</span>A few $\\LaTeX$ basics</a></span><ul class=\"toc-item\"><li><span><a href=\"#Spaces,-new-lines-and-special-characters\" data-toc-modified-id=\"Spaces,-new-lines-and-special-characters-5.1\"><span class=\"toc-item-num\">5.1&nbsp;&nbsp;</span>Spaces, new lines and special characters</a></span></li><li><span><a href=\"#Document-structure:\" data-toc-modified-id=\"Document-structure:-5.2\"><span class=\"toc-item-num\">5.2&nbsp;&nbsp;</span>Document structure:</a></span></li><li><span><a href=\"#Typesetting-math\" data-toc-modified-id=\"Typesetting-math-5.3\"><span class=\"toc-item-num\">5.3&nbsp;&nbsp;</span>Typesetting math</a></span></li></ul></li><li><span><a href=\"#LaTeX-templates\" data-toc-modified-id=\"LaTeX-templates-6\"><span class=\"toc-item-num\">6&nbsp;&nbsp;</span>LaTeX templates</a></span></li><li><span><a href=\"#A-few-more-tips\" data-toc-modified-id=\"A-few-more-tips-7\"><span class=\"toc-item-num\">7&nbsp;&nbsp;</span>A few more tips</a></span></li><li><span><a href=\"#Practicals\" data-toc-modified-id=\"Practicals-8\"><span class=\"toc-item-num\">8&nbsp;&nbsp;</span>Practicals</a></span><ul class=\"toc-item\"><li><ul class=\"toc-item\"><li><span><a href=\"#Practicals-wrap-up\" data-toc-modified-id=\"Practicals-wrap-up-8.0.1\"><span class=\"toc-item-num\">8.0.1&nbsp;&nbsp;</span>Practicals wrap-up</a></span></li></ul></li></ul></li><li><span><a href=\"#Readings-&amp;-Resources\" data-toc-modified-id=\"Readings-&amp;-Resources-9\"><span class=\"toc-item-num\">9&nbsp;&nbsp;</span>Readings &amp; Resources</a></span></li></ul></div>"
   ]
  },
  {
   "cell_type": "markdown",
   "metadata": {},
   "source": [
    "\n",
    "## What’s $\\LaTeX$?\n",
    "\n",
    "In your research, you will produce papers, reports and – very importantly – your thesis. These documents can be written using a WYSIWYG (What You See Is What You Get) editor (e.g., Word). However, an alternative especially suited for scientific publications is LaTeX. In LaTeX, the document is written  in a text file (`.tex`) with certain typesetting (tex) syntax. Text formatting is done using markups (like HTML). The file is then \"compiled\"\n",
    "(like source code of a programming language) into a file – typically `.pdf`.\n",
    "\n",
    "## Why $\\LaTeX$?\n",
    "\n",
    "A number of reasons: \n",
    "\n",
    "1. The input is a small, portable text file\n",
    "* LaTeX compilers are freely available for all OS'\n",
    "* Exactly the same result on any computer (not true for Word, for example)\n",
    "* LaTeX produces beautiful, professional looking docs\n",
    "* Images are easy to embed and annotate \n",
    "* Mathematical formulas (esp complex ones) are easy to write\n",
    "* LaTeX is very stable – current version basically same since 1994! (9 major versions of MS Word since 1994 – with compatibility issues)\n",
    "* LaTeX is free!\n",
    "* You can focus on content, and not worry so much about formatting while writing \n",
    "* An increasing number of Biology journals provide $\\LaTeX$ templates, making formatting quicker. \n",
    "* Referencing (bibliography) is easy (and can also be version controlled) and works with tools like Mendeley and Zotero\n",
    "* Plenty of online support available – your question has probably already been answered\n",
    "* You can integrate LaTeX into a workflow to auto-generate lengthy and complex documents (like your thesis).\n",
    "\n",
    "<figure>\n",
    "<img src=\"./graphics/miktex.png\" alt=\"Word vs LaTeX\" style=\"width:35%\">\n",
    "<small> <center>Source: [Marko Pinteric](http://www.pinteric.com/miktex.html) <figcaption> Large, complex word documents crash, or are a herculean task to open and edit.</figcaption></center></small>\n",
    "</figure>\n",
    "\n",
    "### Limitations of $\\LaTeX$\n",
    "\n",
    "1. It has a steeper learning curve.\n",
    "* Can be difficult to manage revisions with multiple authors – especially if they don't use LaTeX! (Cue: Windows on a virtual machine!)\n",
    "* Tracking changes are not available out of the box (but can be enabled using a suitable package) \n",
    "* Typesetting tables can be a bit complex.\n",
    "* Images and floats are easy to embed, and won't jump around like Word, but if you don't use the right package, they can be difficult to place where you want!"
   ]
  },
  {
   "cell_type": "markdown",
   "metadata": {},
   "source": [
    "## Installing LaTeX\n",
    "\n",
    "Type this in terminal: \n",
    "\n",
    "```bash\n",
    "sudo apt-get install texlive-full texlive-fonts-recommended texlive-pictures texlive-latex-extra imagemagick\n",
    "```\n",
    "It's a large installation - will take some time.  "
   ]
  },
  {
   "cell_type": "markdown",
   "metadata": {},
   "source": [
    "We will use a text editor in this lecture, but you can use one of a number of dedicated editors (e.g., texmaker,\n",
    "Gummi, TeXShop, etc.) There are also WYSIWYG frontends (e.g., Lyx, TeXmacs). \n",
    "\n",
    "[Overleaf](https://www.overleaf.com/) is also very good (and works with git), especially for collaborating with non LaTeX-ers (your university may have a blanket license for the pro version).\n",
    "\n",
    "## A first LaTeX example\n",
    "\n",
    "$\\star$ In your code editor type the following in a file called `FirstExample.tex` and save it in a suitable location in your coursework directory (e.g, `/Week1/Code/`:"
   ]
  },
  {
   "cell_type": "markdown",
   "metadata": {},
   "source": [
    "```\n",
    "\\documentclass[12pt]{article}\n",
    "\\title{A Simple Document}\n",
    "\\author{Your Name}\n",
    "\\date{}\n",
    "\\begin{document}\n",
    "  \\maketitle\n",
    "  \n",
    "  \\begin{abstract}\n",
    "    This paper must be cool!\n",
    "  \\end{abstract}\n",
    "  \n",
    "  \\section{Introduction}\n",
    "    Blah Blah!\n",
    "  \n",
    "  \\section{Materials \\& Methods}\n",
    "  One of the most famous equations is:\n",
    "  \\begin{equation}\n",
    "    E = mc^2\n",
    "  \\end{equation}\n",
    "  This equation was first proposed by Einstein in 1905 \n",
    "  \\cite{einstein1905does}.\n",
    "  \n",
    "  \\bibliographystyle{plain}\n",
    "  \\bibliography{FirstBiblio}\n",
    "\\end{document}\n",
    "```"
   ]
  },
  {
   "cell_type": "markdown",
   "metadata": {},
   "source": [
    "Now, let's get a citation for this paper:\n",
    "\n",
    "$\\star$ In Google Scholar, go to \"settings\" (upper right corner) and choose BibTeX as bibliography manager. Then type \"energy of a body einstein 1905\"\n",
    "\n",
    "The paper should be the one on the top.\n",
    "\n",
    "Click \"Import into BibTeX\" should show the following text, that you will save in the file `FirstBiblio.bib` (in the same directory as `FirstExample.tex`):\n",
    "\n",
    "```bash\n",
    "@article{einstein1905does,\n",
    "  title={Does the inertia of a body depend upon its energy-content?},\n",
    "  author={Einstein, A.},\n",
    "  journal={Annalen der Physik},\n",
    "  volume={18},\n",
    "  pages={639--641},\n",
    "  year={1905}\n",
    "}\n",
    "```\n",
    "Now we can create a `.pdf` of the article.\n",
    "\n",
    "$\\star$ In the terminal type (make sure you are the right directory!):\n",
    "\n",
    "``` bash\n",
    "$ pdflatex FirstExample.tex\n",
    "$ pdflatex FirstExample.tex\n",
    "$ bibtex FirstExample\n",
    "$ pdflatex FirstExample.tex\n",
    "$ pdflatex FirstExample.tex\n",
    "```\n",
    "This should produce the file `FirstExample.pdf`:"
   ]
  },
  {
   "cell_type": "markdown",
   "metadata": {},
   "source": [
    "<figure>\n",
    "<img src=\"./graphics/FirstExample.png\" alt=\" \" style=\"width:65%\">\n",
    "</figure>\n"
   ]
  },
  {
   "cell_type": "markdown",
   "metadata": {},
   "source": [
    "### A bash script to compile LaTeX\n",
    "\n",
    "You can of course write a useful little bash script to compile latex with bibtex!\n",
    "\n",
    "Type the following script and call it `CompileLaTeX.sh` (you know where to put it!):\n",
    "\n",
    "```bash\n",
    "#!/bin/bash\n",
    "pdflatex $1.tex\n",
    "pdflatex $1.tex\n",
    "bibtex $1\n",
    "pdflatex $1.tex\n",
    "pdflatex $1.tex\n",
    "evince $1.pdf &\n",
    "\n",
    "## Cleanup\n",
    "rm *~\n",
    "rm *.aux\n",
    "rm *.dvi\n",
    "rm *.log\n",
    "rm *.nav\n",
    "rm *.out\n",
    "rm *.snm\n",
    "rm *.toc\n",
    "```\n",
    "How do you run this script? The same as your previous bash scripts, so:"
   ]
  },
  {
   "cell_type": "code",
   "execution_count": null,
   "metadata": {},
   "outputs": [],
   "source": [
    "bash CompileLaTeX.sh FirstExample"
   ]
  },
  {
   "cell_type": "markdown",
   "metadata": {},
   "source": [
    "*Why have I not written the `.tex` extension of `FirstExample` in the command above? Can you make this bash script more convenient to use?*\n",
    "\n",
    "## A few $\\LaTeX$ basics\n",
    "\n",
    "### Spaces, new lines and special characters\n",
    "\n",
    "* Several spaces in your text editor are treated as one space in the typeset document\n",
    "* Several empty lines are treated as one empty line\n",
    "* One empty line defines a new paragraph\n",
    "* Some characters are \"special\": # $ % ^ & _ { } ~ \\\n",
    "\n",
    "To type these special characters, you have to add a \"backslash\" in front, e.g., \\\\\\$ produces $\\$$.\n",
    "\n",
    "### Document structure:\n",
    "\n",
    "* Each LaTeX command starts with \\\\ . For example, to get $\\LaTeX$, you need `\\LaTeX`\n",
    "* The first command is always `\\\\`documentclass`` defining the type of document (e.g., `article, book, report, letter`).\n",
    "* You can set several options. For example, to set size of text to 10 points and the letter paper size: \n",
    "`\\documentclass[10pt,letterpaper]{article}`.\n",
    "* After having declared the type of document, you can specify packages you want to use. The most useful are:\n",
    "    \n",
    "    `\\usepackage{color}`: use colors for text in your document.\n",
    "\n",
    "    `\\usepackage{amsmath,amssymb}`: American Mathematical Society formats and commands for typesetting mathematics.\n",
    "\n",
    "    `\\usepackage{fancyhdr}`: fancy headers and footers.\n",
    "\n",
    "    `\\usepackage{graphicx}`: include figures in pdf, ps, eps, gif and jpeg.\n",
    "\n",
    "    `\\usepackage{listings}`: typeset source code for various programming languages.\n",
    "\n",
    "    `\\usepackage{rotating}`: rotate tables and figures.\n",
    "\n",
    "    `\\usepackage{lineno}`: line numbers.\n",
    "\n",
    "* Once you select the packages, you can start your document with `\\begin{document}`, and end it with `\\end{document}`.\n",
    "\n",
    "### Typesetting math\n",
    "\n",
    "There are two ways to display math\n",
    "\n",
    "1. Inline mathematics (i.e., within the text).\n",
    "\n",
    "2. Stand-alone, numbered equations and formulae.\n",
    "\n",
    "For inline math, the \"dollar\" sign flanks the math to be typeset. For example, the code:\n",
    "\n",
    "```\n",
    "$\\int_0^1 p^x (1-p)^y dp$\n",
    "```\n",
    "\n",
    "becomes $\\int_0^1 p^x (1-p)^y dp$\n",
    "\n",
    "For numbered equations (almost always a great idea), LaTeX provides the\n",
    "`equation` environment:\n",
    "\n",
    "```\n",
    "\\begin{equation}\n",
    "    \\int_0^1 \\left(\\ln \\left( \\frac{1}{x} \\right) \n",
    "    \\right)^y dx = y!\n",
    "\\end{equation}\n",
    "```\n",
    "\n",
    "becomes \n",
    "\n",
    "$$\\int_0^1 \\left(\\ln \\left( \\frac{1}{x} \\right) \\right)^y dx = y!$$"
   ]
  },
  {
   "cell_type": "markdown",
   "metadata": {},
   "source": [
    "## LaTeX templates\n",
    "\n",
    "There a lots of useful LaTeX templates out there. I have added some templates in the `TheMulQuaBio` repo that you should have a look and play around with. Or just google \"latex template\" along with the name of a journal you want! "
   ]
  },
  {
   "cell_type": "markdown",
   "metadata": {},
   "source": [
    "## A few more tips\n",
    "\n",
    "The following tips might prove handy:\n",
    "\n",
    "* LaTeX has a full set of symbols and operators (plenty of lists online)\n",
    "* Long documents can be split into separate `.tex` documents and combined using `input`\n",
    "* Long documents can be split into separate `.tex` documents and Figures can be included using the `graphicx` package\n",
    "* You can use Mendeley or Zotero to export and maintain `.bib` files\n",
    "* You can redefine environments and commands in the preamble"
   ]
  },
  {
   "cell_type": "markdown",
   "metadata": {},
   "source": [
    "## Practicals\n",
    "\n",
    "Test `CompileLaTeX.sh` with `FirstExample.tex` and bring it under verson control under`Week1` in your repository. Make sure that `CompileLaTeX.sh` will work if I ran it from my computer using `FirstExample.tex` as an input.\n",
    "\n",
    "#### Practicals wrap-up\n",
    "\n",
    "Make sure you have your `Week 1` directory organized with `Data`, `Sandbox` and `Code` with the necessary files and this week's (functional!) scripts in there. Every script should run without errors on my computer. This includes the five solutions (single-line commands you came up with) in `UnixPrac1.txt`.\n",
    "\n",
    "*Commit and push everything by next Wednesday 5 PM.*"
   ]
  },
  {
   "cell_type": "markdown",
   "metadata": {},
   "source": [
    "## Readings & Resources\n",
    "\n",
    "* [The Visual LaTeX FAQ: sometimes it is difficult to describe what you want to do!](http://get-software.net/info/visualFAQ/visualFAQ.pdf)\n",
    "* Myriad online resources for LaTeX, including: \n",
    "    * [www.http://en.wikibooks.org/wiki/LaTeX/Introduction](www.http://en.wikibooks.org/wiki/LaTeX/Introduction)\n",
    "    * [www.ctan.org/tex-archive/info/lshort/english/](www.ctan.org/tex-archive/info/lshort/english/)\n",
    "    * [http://ftp.uni-erlangen.de/mirrors/CTAN/info/lshort/english/lshort.pdf](http://ftp.uni-erlangen.de/mirrors/CTAN/info/lshort/english/lshort.pdf)\n",
    "* [Beautiful presentations in LaTeX](http://tug.org/pracjourn/2005-2/miller/miller.pdf)\n",
    "* [Bibliographies in LaTeX](http://schneider.ncifcrf.gov/latex.html)\n",
    "* [$\\LaTeX$ table generator](http://www.tablesgenerator.com/)"
   ]
  }
 ],
 "metadata": {
  "author": "A Simple Document",
  "kernelspec": {
   "display_name": "Python 3",
   "language": "python",
   "name": "python3"
  },
  "language_info": {
   "codemirror_mode": {
    "name": "ipython",
    "version": 3
   },
   "file_extension": ".py",
   "mimetype": "text/x-python",
   "name": "python",
   "nbconvert_exporter": "python",
   "pygments_lexer": "ipython3",
   "version": "3.5.2"
  },
  "latex_envs": {
   "LaTeX_envs_menu_present": true,
   "autoclose": false,
   "autocomplete": false,
   "bibliofile": "biblio.bib",
   "cite_by": "apalike",
   "current_citInitial": 1,
   "eqLabelWithNumbers": true,
   "eqNumInitial": 1,
   "hotkeys": {
    "equation": "Ctrl-E",
    "itemize": "Ctrl-I"
   },
   "labels_anchors": false,
   "latex_user_defs": false,
   "report_style_numbering": false,
   "user_envs_cfg": false
  },
  "toc": {
   "base_numbering": 1,
   "nav_menu": {},
   "number_sections": true,
   "sideBar": true,
   "skip_h1_title": false,
   "title_cell": "Table of Contents",
   "title_sidebar": "Contents",
   "toc_cell": true,
   "toc_position": {},
   "toc_section_display": true,
   "toc_window_display": false
  }
 },
 "nbformat": 4,
 "nbformat_minor": 2
}
